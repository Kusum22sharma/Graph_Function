{
 "cells": [
  {
   "cell_type": "markdown",
   "metadata": {},
   "source": [
    "### Graph Function with Correlation and Linear Regression"
   ]
  },
  {
   "cell_type": "code",
   "execution_count": 6,
   "metadata": {},
   "outputs": [],
   "source": [
    "#importing the librarys.\n",
    "import pandas as pd\n",
    "import numpy as np\n",
    "import matplotlib.pyplot as plt\n",
    "import seaborn as sns\n",
    "import os\n",
    "import math"
   ]
  },
  {
   "cell_type": "markdown",
   "metadata": {},
   "source": [
    "**Introduction** \n",
    "We have created an intresting function in python in which you just need to the keep the dataset in default location and call that dataset in our function. \n",
    "\n",
    "##### Result:\n",
    "\n",
    "1. Results will produce Histogram, Barplots and Boxplots among different variables and store them as images.\n",
    "2. First Improvization : You will have visibility to all the possible correlation between all the numerical variables.\n",
    "3. Second Improvization : You can then proceed with Simple Linear Regression with an input and predictor variable of your choice."
   ]
  },
  {
   "cell_type": "code",
   "execution_count": 7,
   "metadata": {},
   "outputs": [],
   "source": [
    "def Graph(dataset,columns=[],dir='F:\\\\Graph'): # F drive has graph folder to store all the results  \n",
    "    \n",
    "    if len(columns)==0:\n",
    "        columns=list(dataset.columns)  # if no columns are specified the operation takes place on all columns\n",
    "    os.chdir(dir) \n",
    "    num_var=[]\n",
    "    cat_var=[]  \n",
    "    \n",
    "    # Find  weather the variable is numerical or categorical\n",
    "    for var in columns:\n",
    "        a=dataset[var].nunique()\n",
    "        if(a>50 and dataset[var].dtype in ['float64','int64']):\n",
    "            num_var.append(var)\n",
    "        else:\n",
    "            cat_var.append(var)\n",
    "            \n",
    "    # Plotting Histogram\n",
    "    for col in num_var:\n",
    "        dataset.hist(column=col,grid=False,figsize=(6,4), bins=10) # removes the grids\n",
    "        plt.savefig(str(col)+'_Histogram.png')   # Saves the plot with column name for better refernce\n",
    "        plt.close() # releases the memory as we have generated graphs for each variable\n",
    "    \n",
    "    # Plotting Box plot\n",
    "        dataset.boxplot(column=col,notch=True,grid=False,figsize=(6,4))\n",
    "        plt.savefig(str(col)+'_Box_Plot.png')\n",
    "        plt.close()\n",
    "    \n",
    "    # Plotting Bar Graph\n",
    "    for col1 in cat_var:\n",
    "        dataset[col1].value_counts().plot(kind='bar',figsize=(4,4),color='coral',fontsize=13)\n",
    "        plt.savefig(str(col1)+'_Box_Plot.png')\n",
    "        plt.close()\n",
    "        \n",
    "    # First Improvisation : Plotting Correlation between multiple variables.\n",
    "\n",
    "    data_corr = dataset.corr()\n",
    "    var_list = list(data_corr.columns)\n",
    "    thre_min = -0.5\n",
    "    thre_max = 0.5\n",
    "    corr_list = {}\n",
    "    count = 0\n",
    "    for i in var_list:\n",
    "        columns = eval('dict(data_corr.'+i+')') #converting dataset.corr() into dictionary and accessings column of that dictionary.\n",
    "        max_list=[]\n",
    "        for key,value in columns.items():  # accessing keys and values of \"columns\" - dictionary \n",
    "            if (value>thre_max or value<thre_min ) and key!=i: #avoiding comparision of column with itself, where corr is 1 \n",
    "                max_list.append([key,value])\n",
    "        corr_list[i]=pd.Series(max_list)\n",
    "\n",
    "    pd.DataFrame(corr_list)\n",
    "\n",
    "    print('Histograms, Box-Plots and Bar graph for variables are avaliable in : C:\\\\Users\\\\hp1\\\\Desktop\\\\Graph_Function_Data')\n",
    "    print('Correlation among the variables are displayed below')\n",
    "    print(pd.DataFrame(corr_list))\n",
    "    print('')\n",
    "    print('Based on above correlation please select input and output column index for Linear Regression ')\n",
    "    print(pd.Series(dataset.columns))\n",
    "    \n",
    "    #dataset=dataset.loc[dataset.MPG!=0]\n",
    "    while True:\n",
    "\n",
    "        prompt=input(\"Want to compute Linear Regression for your dataset: Y/N: \")\n",
    "        if prompt=='Y':\n",
    "            Target=input(\"Enter col index of input variable: \")\n",
    "            Predictor=input(\"Enter col index of predictor variable: \")\n",
    "            \n",
    "            linear_regression(Target,Predictor)\n",
    "        else:\n",
    "            print('Thank you!')\n",
    "            break\n",
    "            \n",
    "            \n",
    "# Second Improvisation :  Plotting Correlation between multiple variables.\n",
    "def linear_regression(Target,Predictor):\n",
    "    \n",
    "    test = int(Target)\n",
    "    test1 = int(Predictor)\n",
    "    x=dataset.iloc[:,test].values\n",
    "    y=dataset.iloc[:,test1].values\n",
    "    \n",
    "    x=np.array(x)\n",
    "    y=np.array(y)\n",
    "    \n",
    "    #Coefficient of regression\n",
    "    b0=((np.sum(y)*np.sum(x**2))-np.sum(x)*np.sum(x*y))/(len(x)*np.sum(x**2)-(np.sum(x)**2))\n",
    "    b1=(len(x)*np.sum(x*y)-np.sum(x)*np.sum(y))/(len(x)*np.sum(x**2)-(np.sum(x)**2))\n",
    "    \n",
    "    #Regression line\n",
    "    reg_line=[b0+b1*i for i in x ]\n",
    "    \n",
    "    #Scatter plot with regression line\n",
    "    plt.scatter(x,y, color='r') \n",
    "    plt.plot(x,reg_line)\n",
    "    plt.xlabel(dataset.columns[test], fontsize=12)\n",
    "    plt.ylabel(dataset.columns[test1], fontsize=12)\n",
    "    plt.title(\"Scatter plot\", fontsize=14)\n",
    "    print('RMSE',math.sqrt(sum((reg_line - y)**2)/(len(y)-1)))\n",
    "    \n",
    "    #Saving the image\n",
    "    plt.savefig('Linear_Regression.png')\n",
    "    plt.show()\n",
    "    plt.close()\n"
   ]
  },
  {
   "cell_type": "code",
   "execution_count": 8,
   "metadata": {},
   "outputs": [
    {
     "name": "stdout",
     "output_type": "stream",
     "text": [
      "Histograms, Box-Plots and Bar graph for variables are avaliable in : C:\\Users\\hp1\\Desktop\\Graph_Function_Data\n",
      "Correlation among the variables are displayed below\n",
      "                                   MPG                           Cylinders  \\\n",
      "0     [Cylinders, -0.7355626558680717]          [MPG, -0.7355626558680717]   \n",
      "1  [Displacement, -0.7642770516061633]  [Displacement, 0.9517870386276701]   \n",
      "2     [Horsepower, -0.726670203189647]    [Horsepower, 0.8234670042496849]   \n",
      "3        [Weight, -0.7875099405047027]        [Weight, 0.8952204775128882]   \n",
      "4          [Model, 0.5862336418632486]  [Acceleration, -0.522451512421053]   \n",
      "\n",
      "                          Displacement                           Horsepower  \\\n",
      "0           [MPG, -0.7642770516061633]            [MPG, -0.726670203189647]   \n",
      "1      [Cylinders, 0.9517870386276701]      [Cylinders, 0.8234670042496849]   \n",
      "2     [Horsepower, 0.8737582991424478]   [Displacement, 0.8737582991424478]   \n",
      "3         [Weight, 0.9324746504807497]          [Weight, 0.840810625521115]   \n",
      "4  [Acceleration, -0.5579836330725136]  [Acceleration, -0.6820467846786835]   \n",
      "\n",
      "                               Weight                         Acceleration  \\\n",
      "0          [MPG, -0.7875099405047027]      [Cylinders, -0.522451512421053]   \n",
      "1     [Cylinders, 0.8952204775128882]  [Displacement, -0.5579836330725136]   \n",
      "2  [Displacement, 0.9324746504807497]    [Horsepower, -0.6820467846786835]   \n",
      "3     [Horsepower, 0.840810625521115]                                  NaN   \n",
      "4                                 NaN                                  NaN   \n",
      "\n",
      "                       Model  \n",
      "0  [MPG, 0.5862336418632486]  \n",
      "1                        NaN  \n",
      "2                        NaN  \n",
      "3                        NaN  \n",
      "4                        NaN  \n",
      "\n",
      "Based on above correlation please select input and output column index for Linear Regression \n",
      "0             Car\n",
      "1             MPG\n",
      "2       Cylinders\n",
      "3    Displacement\n",
      "4      Horsepower\n",
      "5          Weight\n",
      "6    Acceleration\n",
      "7           Model\n",
      "8          Origin\n",
      "dtype: object\n",
      "Want to compute Linear Regression for your dataset: Y/N: Y\n",
      "Enter col index of input variable: 1\n",
      "Enter col index of predictor variable: 5\n",
      "RMSE 522.0104191746692\n"
     ]
    },
    {
     "data": {
      "image/png": "[encoded data removed]",
      "text/plain": [
       "<Figure size 432x288 with 1 Axes>"
      ]
     },
     "metadata": {
      "needs_background": "light"
     },
     "output_type": "display_data"
    },
    {
     "name": "stdout",
     "output_type": "stream",
     "text": [
      "Want to compute Linear Regression for your dataset: Y/N: N\n",
      "Thank you!\n"
     ]
    }
   ],
   "source": [
    "os.chdir(r\"C:\\Users\\kusum\\Desktop\\Python\") # change directory to current working directory\n",
    "dataset = pd.read_csv(\"cars.csv\") # input the file name of your dataset here.\n",
    "Graph(dataset)"
   ]
  }
 ],
 "metadata": {
  "kernelspec": {
   "display_name": "Python 3",
   "language": "python",
   "name": "python3"
  },
  "language_info": {
   "codemirror_mode": {
    "name": "ipython",
    "version": 3
   },
   "file_extension": ".py",
   "mimetype": "text/x-python",
   "name": "python",
   "nbconvert_exporter": "python",
   "pygments_lexer": "ipython3",
   "version": "3.7.3"
  }
 },
 "nbformat": 4,
 "nbformat_minor": 2
}
